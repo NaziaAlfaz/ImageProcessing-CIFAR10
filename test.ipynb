﻿{
 "cells": [
  {
   "cell_type": "code",
   "execution_count": null,
   "metadata": {
    "collapsed": true
   },
   "outputs": [],
   "source": [
    "import numpy as np\n",
    "import matplotlib.pyplot as plt\n",
    "import pickle\n",
    "import os"
   ]
  },
  {
   "cell_type": "code",
   "execution_count": null,
   "outputs": [],
   "source": [
    "# Source: https://github.com/snatch59/load-cifar-10/blob/master/load_cifar_10_alt.py\n",
    "\n",
    "def load_batch(file_path, label_key='labels'):\n",
    "    \"\"\"Load a batch of CIFAR data\"\"\"\n",
    "    with open(file_path, 'rb') as f:\n",
    "        d = pickle.load(f, encoding='bytes')\n",
    "        # decode utf8\n",
    "        d_decoded = {}\n",
    "        for k, v in d.items():\n",
    "            d_decoded[k.decode('utf8')] = v\n",
    "        d = d_decoded\n",
    "    data = d['data']\n",
    "    labels = d[label_key]\n",
    "\n",
    "    data = data.reshape(data.shape[0], 3, 32, 32).transpose(0, 2, 3, 1)\n",
    "    return data, labels\n",
    "\n",
    "\n",
    "def load_data(path):\n",
    "    \"\"\"Load CIFAR10 dataset\"\"\"\n",
    "    num_train_samples = 50000\n",
    "\n",
    "    x_train_local = np.empty((num_train_samples, 32, 32, 3), dtype='uint8')\n",
    "    y_train_local = np.empty((num_train_samples,), dtype='uint8')\n",
    "\n",
    "    for i in range(1, 6):\n",
    "        batch_file_path = os.path.join(path, 'data_batch_' + str(i))\n",
    "        (x_train_local[(i - 1) * 10000: i * 10000, :, :, :],\n",
    "         y_train_local[(i - 1) * 10000: i * 10000]) = load_batch(batch_file_path)\n",
    "        \n",
    "    fpath = os.path.join(path, 'test_batch')\n",
    "    x_test_local, y_test_local = load_batch(fpath)\n",
    "\n",
    "    y_train_local = np.reshape(y_train_local, (len(y_train_local), 1))\n",
    "    y_test_local = np.reshape(y_test_local, (len(y_test_local), 1))\n",
    "    \n",
    "    # x_train_local = x_train_local.transpose(0, 2, 3, 1)\n",
    "    # x_test_local = x_test_local.transpose(0, 2, 3, 1)\n",
    "\n",
    "    return (x_train_local, y_train_local), (x_test_local, y_test_local)"
   ],
   "metadata": {
    "collapsed": false,
    "pycharm": {
     "name": "#%%\n"
    }
   }
  },
  {
   "cell_type": "code",
   "execution_count": null,
   "outputs": [],
   "source": [
    "path = 'cifar-10-batches-py'\n",
    "(x_train, y_train), (x_test, y_test) = load_data(path)"
   ],
   "metadata": {
    "collapsed": false,
    "pycharm": {
     "name": "#%%\n"
    }
   }
  },
  {
   "cell_type": "code",
   "execution_count": null,
   "outputs": [],
   "source": [
    "def filter_class(class_id):\n",
    "    idx = (y_train == class_id).reshape(x_train.shape[0])\n",
    "    x_train_filter = x_train[idx]\n",
    "    y_train_filter = y_train[idx]\n",
    "    \n",
    "    idx = (y_test == class_id).reshape(x_test.shape[0])\n",
    "    x_test_filter = x_test[idx]\n",
    "    y_test_filter = y_test[idx]\n",
    "    \n",
    "    return (x_train_filter, y_train_filter), (x_test_filter, y_test_filter)"
   ],
   "metadata": {
    "collapsed": false,
    "pycharm": {
     "name": "#%%\n"
    }
   }
  },
  {
   "cell_type": "code",
   "execution_count": null,
   "outputs": [],
   "source": [
    "def rgb2gray(rgb):\n",
    "    \"\"\"Utility function for converting RGB numpy array to Grayscale\"\"\"\n",
    "    return np.dot(rgb[...,:3], [0.2989, 0.5870, 0.1140])"
   ],
   "metadata": {
    "collapsed": false,
    "pycharm": {
     "name": "#%%\n"
    }
   }
  },
  {
   "cell_type": "code",
   "execution_count": null,
   "outputs": [],
   "source": [
    "from scipy.spatial.distance import euclidean, cityblock, cdist\n",
    "\n",
    "# Doc: https://numpy.org/doc/stable/reference/generated/numpy.linalg.norm.html\n",
    "dist = np.linalg.norm(rgb2gray(x_test[0]).reshape(1, -1) - rgb2gray(x_test[1]).reshape(1, -1), ord=2)\n",
    "print(dist)\n",
    "\n",
    "dist = np.linalg.norm(rgb2gray(x_test[0]).reshape(1, -1) - rgb2gray(x_test[1]).reshape(1, -1), ord=1)\n",
    "print(dist)\n",
    "\n",
    "dist = euclidean(rgb2gray(x_test[0]).reshape(1, -1), rgb2gray(x_test[1]).reshape(1, -1))\n",
    "print(dist)\n",
    "\n",
    "dist = cityblock(rgb2gray(x_test[0]).reshape(1, -1), rgb2gray(x_test[1]).reshape(1, -1))\n",
    "print(dist)\n",
    "\n",
    "dist = cdist(rgb2gray(x_test[0]).reshape(1, -1), rgb2gray(x_test[1]).reshape(1, -1), metric='euclidean')\n",
    "print(dist)\n",
    "\n",
    "dist = cdist(rgb2gray(x_test[0]).reshape(1, -1), rgb2gray(x_test[1]).reshape(1, -1), metric='cityblock')\n",
    "print(dist)"
   ],
   "metadata": {
    "collapsed": false,
    "pycharm": {
     "name": "#%%\n"
    }
   }
  },
  {
   "cell_type": "code",
   "execution_count": null,
   "outputs": [],
   "source": [
    "diff = rgb2gray(x_test[0]) - rgb2gray(x_test[1])\n",
    "dist = np.sqrt(np.sum(diff ** 2))\n",
    "print(dist)\n",
    "\n",
    "diff = np.abs(rgb2gray(x_test[0]) - rgb2gray(x_test[1]))\n",
    "dist = np.sum(diff)\n",
    "print(dist)\n"
   ],
   "metadata": {
    "collapsed": false,
    "pycharm": {
     "name": "#%%\n"
    }
   }
  }
 ],
 "metadata": {
  "kernelspec": {
   "display_name": "Python 3",
   "language": "python",
   "name": "python3"
  },
  "language_info": {
   "codemirror_mode": {
    "name": "ipython",
    "version": 2
   },
   "file_extension": ".py",
   "mimetype": "text/x-python",
   "name": "python",
   "nbconvert_exporter": "python",
   "pygments_lexer": "ipython2",
   "version": "2.7.6"
  }
 },
 "nbformat": 4,
 "nbformat_minor": 0
}